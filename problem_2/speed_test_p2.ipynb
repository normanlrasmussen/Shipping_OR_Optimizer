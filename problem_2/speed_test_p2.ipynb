{
 "cells": [
  {
   "cell_type": "markdown",
   "id": "4f7e1d28",
   "metadata": {},
   "source": [
    "Initial Tests to see how often the solver gets an optimal solution in 1 minute"
   ]
  },
  {
   "cell_type": "code",
   "execution_count": null,
   "id": "a04c43ef",
   "metadata": {},
   "outputs": [],
   "source": [
    "from problem_2 import Problem_2\n",
    "from problem_2_solver import shipping_solver"
   ]
  },
  {
   "cell_type": "code",
   "execution_count": 2,
   "id": "8b5b9e3f",
   "metadata": {},
   "outputs": [],
   "source": [
    "order_sizes = [10, 20, 30, 40, 50, 60, 70, 80, 90, 100]"
   ]
  },
  {
   "cell_type": "code",
   "execution_count": 3,
   "id": "afb5d933",
   "metadata": {},
   "outputs": [
    {
     "name": "stdout",
     "output_type": "stream",
     "text": [
      "Number of locations: 3\n",
      "Order size: 10, Is optimal: True\n",
      "Order size: 20, Is optimal: True\n",
      "Order size: 30, Is optimal: True\n",
      "Order size: 40, Is optimal: True\n",
      "Order size: 50, Is optimal: True\n",
      "Order size: 60, Is optimal: True\n",
      "Order size: 70, Is optimal: True\n",
      "Order size: 80, Is optimal: False\n",
      "Order size: 90, Is optimal: True\n",
      "Order size: 100, Is optimal: False\n"
     ]
    }
   ],
   "source": [
    "number_of_locations = 3\n",
    "\n",
    "print(f\"Number of locations: {number_of_locations}\")\n",
    "\n",
    "for order_size in order_sizes:\n",
    "    travel_matrix, orders = Problem_2(number_of_locations, order_size).get_data()\n",
    "    num_of_trucks, max_orders_per_run, intial_cost_per_truck = 5, 4, 10\n",
    "    time_limit_s = 60\n",
    "    verbose = False\n",
    "    is_optimal = shipping_solver(travel_matrix, orders, num_of_trucks, max_orders_per_run, intial_cost_per_truck, time_limit_s=time_limit_s, verbose=verbose)\n",
    "    print(f\"Order size: {order_size}, Is optimal: {is_optimal}\")"
   ]
  },
  {
   "cell_type": "code",
   "execution_count": 4,
   "id": "7055e3b5",
   "metadata": {},
   "outputs": [
    {
     "name": "stdout",
     "output_type": "stream",
     "text": [
      "Number of locations: 4\n",
      "Order size: 10, Is optimal: True\n",
      "Order size: 20, Is optimal: True\n",
      "Order size: 30, Is optimal: True\n",
      "Order size: 40, Is optimal: True\n",
      "Order size: 50, Is optimal: True\n",
      "Order size: 60, Is optimal: False\n",
      "Order size: 70, Is optimal: False\n",
      "Order size: 80, Is optimal: False\n",
      "Order size: 90, Is optimal: False\n",
      "Order size: 100, Is optimal: False\n"
     ]
    }
   ],
   "source": [
    "number_of_locations = 4\n",
    "\n",
    "print(f\"Number of locations: {number_of_locations}\")\n",
    "\n",
    "for order_size in order_sizes:\n",
    "    travel_matrix, orders = Problem_2(number_of_locations, order_size).get_data()\n",
    "    num_of_trucks, max_orders_per_run, intial_cost_per_truck = 5, 4, 10\n",
    "    time_limit_s = 60\n",
    "    verbose = False\n",
    "    is_optimal = shipping_solver(travel_matrix, orders, num_of_trucks, max_orders_per_run, intial_cost_per_truck, time_limit_s=time_limit_s, verbose=verbose)\n",
    "    print(f\"Order size: {order_size}, Is optimal: {is_optimal}\")"
   ]
  },
  {
   "cell_type": "code",
   "execution_count": 5,
   "id": "6b624784",
   "metadata": {},
   "outputs": [
    {
     "name": "stdout",
     "output_type": "stream",
     "text": [
      "Number of locations: 5\n",
      "Order size: 10, Is optimal: True\n",
      "Order size: 20, Is optimal: True\n",
      "Order size: 30, Is optimal: True\n",
      "Order size: 40, Is optimal: False\n",
      "Order size: 50, Is optimal: False\n",
      "Order size: 60, Is optimal: False\n",
      "Order size: 70, Is optimal: False\n",
      "Order size: 80, Is optimal: False\n",
      "Order size: 90, Is optimal: False\n",
      "Order size: 100, Is optimal: False\n"
     ]
    }
   ],
   "source": [
    "number_of_locations = 5\n",
    "\n",
    "print(f\"Number of locations: {number_of_locations}\")\n",
    "\n",
    "for order_size in order_sizes:\n",
    "    travel_matrix, orders = Problem_2(number_of_locations, order_size).get_data()\n",
    "    num_of_trucks, max_orders_per_run, intial_cost_per_truck = 5, 4, 10\n",
    "    time_limit_s = 60\n",
    "    verbose = False\n",
    "    is_optimal = shipping_solver(travel_matrix, orders, num_of_trucks, max_orders_per_run, intial_cost_per_truck, time_limit_s=time_limit_s, verbose=verbose)\n",
    "    print(f\"Order size: {order_size}, Is optimal: {is_optimal}\")"
   ]
  },
  {
   "cell_type": "code",
   "execution_count": 6,
   "id": "2ce177f9",
   "metadata": {},
   "outputs": [
    {
     "name": "stdout",
     "output_type": "stream",
     "text": [
      "Number of locations: 6\n",
      "Order size: 10, Is optimal: True\n",
      "Order size: 20, Is optimal: True\n",
      "Order size: 30, Is optimal: True\n",
      "Order size: 40, Is optimal: False\n",
      "Order size: 50, Is optimal: False\n",
      "Order size: 60, Is optimal: False\n",
      "Order size: 70, Is optimal: False\n",
      "Order size: 80, Is optimal: False\n",
      "Order size: 90, Is optimal: False\n",
      "Order size: 100, Is optimal: False\n"
     ]
    }
   ],
   "source": [
    "number_of_locations = 6\n",
    "\n",
    "print(f\"Number of locations: {number_of_locations}\")\n",
    "\n",
    "for order_size in order_sizes:\n",
    "    travel_matrix, orders = Problem_2(number_of_locations, order_size).get_data()\n",
    "    num_of_trucks, max_orders_per_run, intial_cost_per_truck = 5, 4, 10\n",
    "    time_limit_s = 60\n",
    "    verbose = False\n",
    "    is_optimal = shipping_solver(travel_matrix, orders, num_of_trucks, max_orders_per_run, intial_cost_per_truck, time_limit_s=time_limit_s, verbose=verbose)\n",
    "    print(f\"Order size: {order_size}, Is optimal: {is_optimal}\")"
   ]
  },
  {
   "cell_type": "code",
   "execution_count": 7,
   "id": "29c5f648",
   "metadata": {},
   "outputs": [
    {
     "name": "stdout",
     "output_type": "stream",
     "text": [
      "Number of locations: 7\n",
      "Order size: 10, Is optimal: True\n",
      "Order size: 20, Is optimal: False\n",
      "Order size: 30, Is optimal: False\n",
      "Order size: 40, Is optimal: False\n",
      "Order size: 50, Is optimal: False\n",
      "Order size: 60, Is optimal: False\n",
      "Order size: 70, Is optimal: False\n",
      "Order size: 80, Is optimal: False\n",
      "Order size: 90, Is optimal: False\n",
      "Order size: 100, Is optimal: False\n"
     ]
    }
   ],
   "source": [
    "number_of_locations = 7\n",
    "\n",
    "print(f\"Number of locations: {number_of_locations}\")\n",
    "\n",
    "for order_size in order_sizes:\n",
    "    travel_matrix, orders = Problem_2(number_of_locations, order_size).get_data()\n",
    "    num_of_trucks, max_orders_per_run, intial_cost_per_truck = 5, 4, 10\n",
    "    time_limit_s = 60\n",
    "    verbose = False\n",
    "    is_optimal = shipping_solver(travel_matrix, orders, num_of_trucks, max_orders_per_run, intial_cost_per_truck, time_limit_s=time_limit_s, verbose=verbose)\n",
    "    print(f\"Order size: {order_size}, Is optimal: {is_optimal}\")"
   ]
  }
 ],
 "metadata": {
  "kernelspec": {
   "display_name": "sneck",
   "language": "python",
   "name": "python3"
  },
  "language_info": {
   "codemirror_mode": {
    "name": "ipython",
    "version": 3
   },
   "file_extension": ".py",
   "mimetype": "text/x-python",
   "name": "python",
   "nbconvert_exporter": "python",
   "pygments_lexer": "ipython3",
   "version": "3.13.3"
  }
 },
 "nbformat": 4,
 "nbformat_minor": 5
}
